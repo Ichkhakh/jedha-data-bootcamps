{
 "cells": [
  {
   "cell_type": "markdown",
   "id": "3cc07efc",
   "metadata": {},
   "source": [
    "# 🔎 Test API - Open Trivia Database (OpenTDB)\n",
    "\n",
    "Ce notebook a pour objectif de **tester les appels à l’API OpenTDB** dans le cadre du projet Quizz.\n",
    "\n",
    "🎯 **Objectifs** :\n",
    "- Explorer les paramètres de l’API (`amount`, `category`, `difficulty`, etc.)\n",
    "- Visualiser la structure de réponse JSON\n",
    "- Tester la récupération et le parsing des questions\n",
    "- Vérifier la présence de caractères spéciaux (HTML) dans les questions\n",
    "- Préparer les appels API à intégrer ensuite dans la classe `WebScraper`\n",
    "\n",
    "🔧 API utilisée : [https://opentdb.com/api_config.php](https://opentdb.com/api_config.php)\n"
   ]
  },
  {
   "cell_type": "code",
   "execution_count": 1,
   "id": "079530ce",
   "metadata": {},
   "outputs": [],
   "source": [
    "import requests \n",
    "import pandas as pd \n",
    "from selenium import webdriver\n",
    "from selenium.webdriver.chrome.options import Options\n",
    "from selenium.webdriver.support.ui import Select\n",
    "from selenium.webdriver.common.by import By"
   ]
  },
  {
   "cell_type": "code",
   "execution_count": 2,
   "id": "4b1b0399",
   "metadata": {},
   "outputs": [],
   "source": [
    "# Open url using selenium : \n",
    "url = \"https://opentdb.com/api_config.php\"\n",
    "driver = webdriver.Chrome()\n",
    "driver.get(url)"
   ]
  },
  {
   "cell_type": "code",
   "execution_count": 20,
   "id": "b100b1d0",
   "metadata": {},
   "outputs": [],
   "source": [
    "# Change the amount of questions you want to generate : \n",
    "xpath_amount = '//input[@name=\"trivia_amount\"]'\n",
    "try : \n",
    "    amount_questions = driver.find_element(By.XPATH,xpath_amount)\n",
    "except  : \n",
    "    print(f\"Error : no such input element {xpath_amount} is found\")\n",
    "else : \n",
    "    amount_questions.clear()\n",
    "    amount_questions.send_keys(\"50\")\n",
    "    "
   ]
  },
  {
   "cell_type": "code",
   "execution_count": null,
   "id": "58b9def4",
   "metadata": {},
   "outputs": [
    {
     "name": "stdout",
     "output_type": "stream",
     "text": [
      "Any Category\n",
      "General Knowledge\n",
      "Entertainment: Books\n",
      "Entertainment: Film\n",
      "Entertainment: Music\n",
      "Entertainment: Musicals & Theatres\n",
      "Entertainment: Television\n",
      "Entertainment: Video Games\n",
      "Entertainment: Board Games\n",
      "Science & Nature\n",
      "Science: Computers\n",
      "Science: Mathematics\n",
      "Mythology\n",
      "Sports\n",
      "Geography\n",
      "History\n",
      "Politics\n",
      "Art\n",
      "Celebrities\n",
      "Animals\n",
      "Vehicles\n",
      "Entertainment: Comics\n",
      "Science: Gadgets\n",
      "Entertainment: Japanese Anime & Manga\n",
      "Entertainment: Cartoon & Animations\n"
     ]
    }
   ],
   "source": [
    "# # Retrieve and print all available quiz categories from the dropdown menu :  \n",
    "category_xpath = '//select[@name=\"trivia_category\"]'\n",
    "try : \n",
    "    category_choices = driver.find_element(By.XPATH,category_xpath)\n",
    "except : \n",
    "    print(f\"Error : no such input element {category_xpath} is found\")\n",
    "else : \n",
    "    category_options = category_choices.find_elements(By.TAG_NAME,\"option\")\n",
    "    for category in category_options : \n",
    "        print(category.get_attribute(\"text\"))\n"
   ]
  },
  {
   "cell_type": "code",
   "execution_count": null,
   "id": "7960b28a",
   "metadata": {},
   "outputs": [
    {
     "name": "stdout",
     "output_type": "stream",
     "text": [
      "Any Difficulty\n",
      "Easy\n",
      "Medium\n",
      "Hard\n"
     ]
    }
   ],
   "source": [
    "# # Retrieve and print all available difficulty from the dropdown menu\n",
    "\n",
    "difficulty_xpath = '//select[@name=\"trivia_difficulty\"]'\n",
    "\n",
    "try : \n",
    "    difficulty_choices = driver.find_element(By.XPATH,difficulty_xpath)\n",
    "except : \n",
    "    print(f\"Error : no such input element {difficulty_xpath} is found\")\n",
    "\n",
    "else : \n",
    "    difficulty_options = difficulty_choices.find_elements(By.TAG_NAME,\"option\")\n",
    "    for difficulty in difficulty_options : \n",
    "        print(difficulty.get_attribute(\"text\"))"
   ]
  },
  {
   "cell_type": "markdown",
   "id": "ababa9c6",
   "metadata": {},
   "source": []
  }
 ],
 "metadata": {
  "kernelspec": {
   "display_name": "Quiz-Python (venv)",
   "language": "python",
   "name": "venv"
  },
  "language_info": {
   "codemirror_mode": {
    "name": "ipython",
    "version": 3
   },
   "file_extension": ".py",
   "mimetype": "text/x-python",
   "name": "python",
   "nbconvert_exporter": "python",
   "pygments_lexer": "ipython3",
   "version": "3.9.13"
  }
 },
 "nbformat": 4,
 "nbformat_minor": 5
}
