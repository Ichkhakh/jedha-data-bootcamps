{
 "cells": [
  {
   "cell_type": "markdown",
   "id": "3cc07efc",
   "metadata": {},
   "source": [
    "# 🔎 Test API - Open Trivia Database (OpenTDB)\n",
    "\n",
    "Ce notebook a pour objectif de **tester les appels à l’API OpenTDB** dans le cadre du projet Quizz.\n",
    "\n",
    "🎯 **Objectifs** :\n",
    "- Explorer les paramètres de l’API (`amount`, `category`, `difficulty`, etc.)\n",
    "- Visualiser la structure de réponse JSON\n",
    "- Tester la récupération et le parsing des questions\n",
    "- Vérifier la présence de caractères spéciaux (HTML) dans les questions\n",
    "- Préparer les appels API à intégrer ensuite dans la classe `WebScraper`\n",
    "\n",
    "🔧 API utilisée : [https://opentdb.com/api_config.php](https://opentdb.com/api_config.php)\n"
   ]
  },
  {
   "cell_type": "code",
   "execution_count": 2,
   "id": "614ce050",
   "metadata": {},
   "outputs": [
    {
     "ename": "ModuleNotFoundError",
     "evalue": "No module named 'selenium'",
     "output_type": "error",
     "traceback": [
      "\u001b[1;31m---------------------------------------------------------------------------\u001b[0m",
      "\u001b[1;31mModuleNotFoundError\u001b[0m                       Traceback (most recent call last)",
      "Cell \u001b[1;32mIn[2], line 1\u001b[0m\n\u001b[1;32m----> 1\u001b[0m \u001b[38;5;28;01mfrom\u001b[39;00m\u001b[38;5;250m \u001b[39m\u001b[38;5;21;01mselenium\u001b[39;00m\u001b[38;5;250m \u001b[39m\u001b[38;5;28;01mimport\u001b[39;00m webdriver\n",
      "\u001b[1;31mModuleNotFoundError\u001b[0m: No module named 'selenium'"
     ]
    }
   ],
   "source": [
    "from selenium import webdriver"
   ]
  },
  {
   "cell_type": "code",
   "execution_count": null,
   "id": "079530ce",
   "metadata": {},
   "outputs": [],
   "source": []
  }
 ],
 "metadata": {
  "kernelspec": {
   "display_name": ".venv",
   "language": "python",
   "name": "python3"
  },
  "language_info": {
   "codemirror_mode": {
    "name": "ipython",
    "version": 3
   },
   "file_extension": ".py",
   "mimetype": "text/x-python",
   "name": "python",
   "nbconvert_exporter": "python",
   "pygments_lexer": "ipython3",
   "version": "3.9.13"
  }
 },
 "nbformat": 4,
 "nbformat_minor": 5
}
